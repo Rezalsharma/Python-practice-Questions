{
 "cells": [
  {
   "cell_type": "markdown",
   "id": "36981138-d231-4bf4-8fa8-4d4ecdaa77b3",
   "metadata": {},
   "source": [
    "# 1. Write a python program that takes an integer as input and prints whether it is even or odd."
   ]
  },
  {
   "cell_type": "markdown",
   "id": "c2687955-5be2-4371-95c0-07385cf2110d",
   "metadata": {},
   "source": [
    "## Algorithm\n",
    "#### Step 1 : Start.\n",
    "#### Step 2: Display a message asking the user to enter a number.\n",
    "#### Step 3: Use modulus operation to check divisibility( num % 2 == 0 ).\n",
    "#### Step 4: If the remainder is 0, then print the number is even.\n",
    "#### and if the remainder is not 0 then print the number is odd.\n",
    "#### Step 6: End."
   ]
  },
  {
   "cell_type": "code",
   "execution_count": 1,
   "id": "b7e134ef-c48e-483e-85af-563dace71d14",
   "metadata": {},
   "outputs": [
    {
     "name": "stdin",
     "output_type": "stream",
     "text": [
      "enter a number to check even or odd 6\n"
     ]
    },
    {
     "name": "stdout",
     "output_type": "stream",
     "text": [
      "6  is a even number\n"
     ]
    }
   ],
   "source": [
    "# Step 1: Take input from the user\n",
    "num=int(input(\"enter a number to check even or odd\"))\n",
    "# Step 2: Check if the number is even or odde\n",
    "if num%2==0:\n",
    "    print(num,\" is a even number\")\n",
    "else:\n",
    "    print(num,\" is odd\")"
   ]
  },
  {
   "cell_type": "markdown",
   "id": "09c7de71-83cd-41ea-90ca-c57dc535e2bb",
   "metadata": {},
   "source": [
    "# 2. Write a program to check whether a number is Positive , Negative , or Zero"
   ]
  },
  {
   "cell_type": "markdown",
   "id": "479bff7c-b221-4484-a232-b4393ad2938b",
   "metadata": {},
   "source": [
    "### Algorithm\n",
    "#### Step 1: Start\n",
    "#### Step 2:Input a number\n",
    "#### Step 3:If number > 0 → print \"Positive\"\n",
    "#### Step 4:Else if number < 0 → print \"Negative\"\n",
    "#### Step 5:Else → print \"Zero\"\n",
    "#### Step 6:End"
   ]
  },
  {
   "cell_type": "code",
   "execution_count": 2,
   "id": "5b821dd4-bfb3-4550-9cc0-c0e86053eac6",
   "metadata": {},
   "outputs": [
    {
     "name": "stdin",
     "output_type": "stream",
     "text": [
      "Enter a number:  -66\n"
     ]
    },
    {
     "name": "stdout",
     "output_type": "stream",
     "text": [
      "The number is Negative.\n"
     ]
    }
   ],
   "source": [
    "# Input from user\n",
    "num = float(input(\"Enter a number: \"))\n",
    "# Check conditions\n",
    "if num > 0:\n",
    "    print(\"The number is Positive.\")\n",
    "elif num < 0:\n",
    "    print(\"The number is Negative.\")\n",
    "else:\n",
    "    print(\"The number is Zero.\")"
   ]
  },
  {
   "cell_type": "markdown",
   "id": "4cb4d3ad-e2bb-485e-9b29-2131e4ff8d7b",
   "metadata": {},
   "source": [
    "# 3. Write a program to generate the Fabonacci series upto N digits"
   ]
  },
  {
   "cell_type": "markdown",
   "id": "9c5503dd-b12d-4e28-aeb2-8465a06c7022",
   "metadata": {},
   "source": [
    "### Algorithm:-\n",
    "#### Step 1: Start\n",
    "#### Step 2: Input the no of terms to be printed.\n",
    "#### Step 3: take num1 = 0 (first number) and num2 = 1 (second number)\n",
    "#### Step 4: Repeat for _ in range 0 to num - 1\n",
    "#### Step 5: Set num1 = num2 and num2 = num1 + num2.\n",
    "#### Print num1\n",
    "#### Step 5: End"
   ]
  },
  {
   "cell_type": "code",
   "execution_count": 3,
   "id": "a7cf7383-d5d6-4cd8-af97-2bf1711abc24",
   "metadata": {},
   "outputs": [
    {
     "name": "stdin",
     "output_type": "stream",
     "text": [
      "Enter a number 5\n"
     ]
    },
    {
     "name": "stdout",
     "output_type": "stream",
     "text": [
      "01123"
     ]
    }
   ],
   "source": [
    "#Input the no of terms to be printed.\n",
    "num=int(input(\"Enter a number\"))\n",
    "num1,num2=0,1\n",
    "# for loop:-\n",
    "for _ in range(0,num):\n",
    "    print(num1,end=\"\")\n",
    "    num1,num2=num2,num1+num2"
   ]
  },
  {
   "cell_type": "markdown",
   "id": "09dff6c0-5c6c-4882-a9b8-2d5140ed5425",
   "metadata": {},
   "source": [
    "# 4. Given a number N, write a program to find the sum of the first N natural numbers using a loop."
   ]
  },
  {
   "cell_type": "markdown",
   "id": "712782bc-fefa-44b3-a8d2-bff1178bfe4a",
   "metadata": {},
   "source": [
    "### Algorithm\n",
    "#### Step 1: Start\n",
    "#### Step 2: Input a number n (number of natural numbers to sum).\n",
    "#### Step 3: Take a variable sum = 0.\n",
    "#### Step 4: Repeat a loop from i = 1 to n and In each step, add i to sum\n",
    "#### Step 5: After the loop ends, print the value of sum.\n",
    "#### Step 6: End"
   ]
  },
  {
   "cell_type": "code",
   "execution_count": null,
   "id": "9bd1d630-eee0-42b0-85ed-504d1397de53",
   "metadata": {},
   "outputs": [],
   "source": [
    "## Input a number n.\n",
    "n=int(input(\"Enter the number of digits:\"))\n",
    "#Take a variable sum\n",
    "sum=0\n",
    "#for loop\n",
    "for i in range(1,n+1):\n",
    "    sum=sum+i\n",
    "#print staetement\n",
    "print(sum)\n",
    "    "
   ]
  },
  {
   "cell_type": "markdown",
   "id": "f6bcb18b-0c0a-4695-923e-5250935451e8",
   "metadata": {},
   "source": [
    "# 5. Write a program that takes a number as input and prints its multiplication table up to 10."
   ]
  },
  {
   "cell_type": "markdown",
   "id": "4fa0fd26-2350-46a5-aee4-736927b1565e",
   "metadata": {},
   "source": [
    "### Algorithm\n",
    "#### Step 1:Start\n",
    "#### Step 2:Input the number num for which the multiplication table is to be printed.\n",
    "#### Step 3: Repeat a loop from i = 1 to i = 10\n",
    "#### Step 4:Print the result in the format: num x i = result\n",
    "#### Step 5: End"
   ]
  },
  {
   "cell_type": "code",
   "execution_count": 5,
   "id": "fc3f42a2-47ee-467a-847c-0378a7c77109",
   "metadata": {},
   "outputs": [
    {
     "name": "stdin",
     "output_type": "stream",
     "text": [
      "Enter the number: 2\n"
     ]
    },
    {
     "name": "stdout",
     "output_type": "stream",
     "text": [
      "2 x 1 = 2\n",
      "2 x 2 = 4\n",
      "2 x 3 = 6\n",
      "2 x 4 = 8\n",
      "2 x 5 = 10\n",
      "2 x 6 = 12\n",
      "2 x 7 = 14\n",
      "2 x 8 = 16\n",
      "2 x 9 = 18\n",
      "2 x 10 = 20\n"
     ]
    }
   ],
   "source": [
    "#Input the number num\n",
    "num=int(input(\"Enter the number:\"))\n",
    "#for loop\n",
    "for i in range(1,11):\n",
    "#print statement\n",
    "    print(num,\"x\",i,\"=\",num*i)"
   ]
  },
  {
   "cell_type": "markdown",
   "id": "8f70041f-9d4f-4fc0-898a-7f0dcda18e66",
   "metadata": {},
   "source": [
    "# 6. Write a program to find the factorial of a given number using a loop."
   ]
  },
  {
   "cell_type": "markdown",
   "id": "301967d2-7097-4da1-88d5-612c8f0bf145",
   "metadata": {},
   "source": [
    "### Algorithm\n",
    "#### Step 1: Start\n",
    "#### Step 2: Input the number num.\n",
    "#### Step 3: Set factorial = 1.\n",
    "#### Step 4: Repeat for i = 1 to num:\n",
    "#### Multiply factorial by i (i.e., factorial = factorial * i).\n",
    "#### Step 5: Print the value of factorial.\n",
    "#### Step 6: End\n",
    "\n"
   ]
  },
  {
   "cell_type": "code",
   "execution_count": 6,
   "id": "54c32934-d712-41de-b096-ede11753bfb1",
   "metadata": {},
   "outputs": [
    {
     "name": "stdin",
     "output_type": "stream",
     "text": [
      "Enter the number: 5\n"
     ]
    },
    {
     "name": "stdout",
     "output_type": "stream",
     "text": [
      "120\n"
     ]
    }
   ],
   "source": [
    "#Input the number num.\n",
    "num=int(input(\"Enter the number:\"))\n",
    "#Set factorial = 1.\n",
    "factorial=1\n",
    "#for loop:-\n",
    "for i in range(1,num+1):\n",
    "    factorial=factorial*i\n",
    "#print statement\n",
    "print(factorial)"
   ]
  },
  {
   "cell_type": "markdown",
   "id": "5c2b503e-43f7-43f3-91e1-f4b6f07a13dc",
   "metadata": {},
   "source": [
    "# 7. Write a program to count the number of digits in an integer."
   ]
  },
  {
   "cell_type": "markdown",
   "id": "a58b39c1-b7d9-43de-ad89-237384df9cc3",
   "metadata": {},
   "source": [
    "### Algorithm\n",
    "#### Step 1: Start\n",
    "#### Step 2: Input an integer num\n",
    "#### Step 3: Initialize digit_count = 0\n",
    "#### Step 4: Repeat while num > 0:\n",
    "#### Step 5: Divide num by 10\n",
    "#### Step 6: Increment digit_count by 1\n",
    "#### Step 7: Print digit_count\n",
    "#### Step 8: End\n",
    "\n"
   ]
  },
  {
   "cell_type": "code",
   "execution_count": 7,
   "id": "46b6b40e-226b-4417-888e-9d4b70418d94",
   "metadata": {},
   "outputs": [
    {
     "name": "stdin",
     "output_type": "stream",
     "text": [
      "Enter the integer: 345\n"
     ]
    },
    {
     "name": "stdout",
     "output_type": "stream",
     "text": [
      "1\n",
      "2\n",
      "3\n"
     ]
    }
   ],
   "source": [
    "#Input an integer num\n",
    "num=int(input(\"Enter the integer:\"))\n",
    "#set a variable equal to zero\n",
    "digit_count=0\n",
    "#while loop\n",
    "while num>0:\n",
    "    num=num//10\n",
    "    digit_count+=1\n",
    "#print statement\n",
    "    print(digit_count)"
   ]
  },
  {
   "cell_type": "markdown",
   "id": "de460e35-2906-4580-bdd6-f42c018a8c7a",
   "metadata": {},
   "source": [
    "# 8. Write a program that takes a number as input and prints the sum of its digits. "
   ]
  },
  {
   "cell_type": "markdown",
   "id": "af777d93-da20-452a-825e-fd4c88ba07b5",
   "metadata": {},
   "source": [
    "### Algorithm :-\n",
    "#### Step 1: Star\n",
    "#### Step 2: Take input from the user and store it in variable num.\n",
    "#### Step 3: Convert num to string so we can access each digit individually.\n",
    "#### Step 4: Initialize a variable sum and set it to 0.\n",
    "#### Step 5: Repeat the following steps for each character i in the string form of num:\n",
    "#### Convert i to an integer using int(i)\n",
    "#### Add it to sum\n",
    "#### Step 6: print the value of sum.\n",
    "#### Step 7: End"
   ]
  },
  {
   "cell_type": "code",
   "execution_count": 1,
   "id": "fc4068cf-53fa-4c90-b865-310f8a5eb66e",
   "metadata": {},
   "outputs": [
    {
     "name": "stdin",
     "output_type": "stream",
     "text": [
      "enter an integer 56\n"
     ]
    },
    {
     "name": "stdout",
     "output_type": "stream",
     "text": [
      "11\n"
     ]
    }
   ],
   "source": [
    "#Take input from the user\n",
    "num=int(input(\"enter an integer\"))\n",
    "#Initialize a variable sum and set it to 0\n",
    "sum=0\n",
    "#for loop\n",
    "for i in str(num):\n",
    "    sum=sum+int(i)\n",
    "#print statement\n",
    "    print(sum)"
   ]
  }
 ],
 "metadata": {
  "kernelspec": {
   "display_name": "Python 3 (ipykernel)",
   "language": "python",
   "name": "python3"
  },
  "language_info": {
   "codemirror_mode": {
    "name": "ipython",
    "version": 3
   },
   "file_extension": ".py",
   "mimetype": "text/x-python",
   "name": "python",
   "nbconvert_exporter": "python",
   "pygments_lexer": "ipython3",
   "version": "3.12.7"
  }
 },
 "nbformat": 4,
 "nbformat_minor": 5
}
