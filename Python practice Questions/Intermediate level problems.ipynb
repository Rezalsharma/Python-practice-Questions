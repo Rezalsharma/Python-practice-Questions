{
 "cells": [
  {
   "cell_type": "markdown",
   "id": "ab27f69c-0c7d-4a6d-93a3-678016ec8a68",
   "metadata": {},
   "source": [
    "# 1. Write a program to reverse a given number without using string method"
   ]
  },
  {
   "cell_type": "markdown",
   "id": "fd7e9a3a-4f65-4231-aff8-5f854e8deb54",
   "metadata": {},
   "source": [
    "### Algorithn:-\n",
    "#### Step 1:- Start\n",
    "#### Step 2:-Take a number and store it in num1\n",
    "#### Step 3:-Convert num1 to string using str(num1)\n",
    "#### Step 4:-Reverse the string using [::-1]\n",
    "#### Step 5:-Convert the reversed string back to integer using int()\n",
    "#### Step 6:-Store the result in rev_num\n",
    "#### Step 7:-Print num1\n",
    "#### Step 8:-Print rev_num\n",
    "#### Step 9:-End"
   ]
  },
  {
   "cell_type": "code",
   "execution_count": 2,
   "id": "7c63db4c-20eb-4002-8169-06a8f90724b9",
   "metadata": {},
   "outputs": [
    {
     "name": "stdout",
     "output_type": "stream",
     "text": [
      "1234\n",
      "4321\n"
     ]
    }
   ],
   "source": [
    "#Take a number and store it in num1\n",
    "num1=1234\n",
    "#Reverse the string\n",
    "rev_num=int(str(num1)[::-1])\n",
    "#print statement\n",
    "print(num1)\n",
    "print(rev_num)"
   ]
  },
  {
   "cell_type": "markdown",
   "id": "4d7f80bf-48b8-479a-8e2c-9d467c458cb1",
   "metadata": {},
   "source": [
    "# 2. Write a program to check whether a number is a palindrome."
   ]
  },
  {
   "cell_type": "markdown",
   "id": "4fab4a43-99f1-47fd-bad1-0b9f9838d793",
   "metadata": {},
   "source": [
    "### Algorithm:-\n",
    "#### Step 1: Start\n",
    "#### Step 2: Take a number from user using input()\n",
    "#### Step 3: Convert the input to integer and store in variable num\n",
    "#### Step 4: Convert num to string\n",
    "#### Step 5: Reverse the string using [::-1]\n",
    "#### Step 6: Convert the reversed string back to integer\n",
    "#### Step 7: Store the result in variable reverse\n",
    "#### Step 8: Compare num and reverse\n",
    "#### Step 9: If both are equal, print \"yes\"\n",
    "#### Step 10: If not equal, print \"no\"\n",
    "#### Step 11: End"
   ]
  },
  {
   "cell_type": "code",
   "execution_count": 5,
   "id": "763c8113-0411-4e97-b92d-d575e76b5c3d",
   "metadata": {},
   "outputs": [
    {
     "name": "stdin",
     "output_type": "stream",
     "text": [
      "Enter a num:- 23232\n"
     ]
    },
    {
     "name": "stdout",
     "output_type": "stream",
     "text": [
      "yes\n"
     ]
    }
   ],
   "source": [
    "#Take a number from user\n",
    "num=int(input(\"Enter a num:-\"))\n",
    "#Reverse the string \n",
    "reverse=int(str(num)[::-1])\n",
    "#condition:-\n",
    "if num==reverse:\n",
    "#print statement:-\n",
    "    print(\"yes\")\n",
    "else:\n",
    "    print(\"no\")"
   ]
  },
  {
   "cell_type": "markdown",
   "id": "00fe6919-65dc-4e3d-991c-92bfe2b2ed09",
   "metadata": {},
   "source": [
    "# 3. Write a program to check if a given number is an Armstrong number"
   ]
  },
  {
   "cell_type": "markdown",
   "id": "6008f7c0-b5c0-4d36-b504-99e40001103a",
   "metadata": {},
   "source": [
    "### Algorithm:-\n",
    "#### Step 1: Start\n",
    "#### Step 2: Take a number as input from the user and store it in a variable called num\n",
    "#### Step 3: Store the original value of num in a separate variable called original\n",
    "#### Step 4: Convert num to a string and count the number of digits\n",
    "#### Store this count in a variable called n\n",
    "#### Step 5: Initialize a variable sum with value 0\n",
    "#### Step 6: Use a loop to go through each digit of num\n",
    "#### Step 7: Convert each digit back to an integer\n",
    "#### Step 8: Raise the digit to the power of n\n",
    "#### Step 9: Add the result to sum\n",
    "#### Step 10: After the loop ends, compare sum with original\n",
    "#### Step 11: If sum is equal to original, then print \"Armstrong number\"\n",
    "#### Step 12: If sum is not equal to original, then print \"Not an Armstrong number\"\n",
    "#### Step 13: End"
   ]
  },
  {
   "cell_type": "code",
   "execution_count": 3,
   "id": "1cc410b1-e302-49d3-b67a-04fcc825d12f",
   "metadata": {},
   "outputs": [
    {
     "name": "stdin",
     "output_type": "stream",
     "text": [
      "Enter a number:- 153\n"
     ]
    },
    {
     "name": "stdout",
     "output_type": "stream",
     "text": [
      "153  is an Armstrong number.\n"
     ]
    }
   ],
   "source": [
    "#Take a number as input\n",
    "num=int(input(\"Enter a number:-\"))\n",
    "# Initialize a variable sum with value 0\n",
    "sum = 0\n",
    "#for loop:-\n",
    "for digit in str(num):\n",
    "    sum += int(digit) ** len(str(num))\n",
    "#if condition:-\n",
    "if sum == num:\n",
    "    print(num,\" is an Armstrong number.\")\n",
    "else:\n",
    "    print(num,\" is not an Armstrong number.\")"
   ]
  },
  {
   "cell_type": "markdown",
   "id": "0de2c121-b440-4256-a1e1-52af96445e82",
   "metadata": {},
   "source": [
    "# 4. Write a program that takes three numbers as input and prints the largest one."
   ]
  },
  {
   "cell_type": "markdown",
   "id": "2dd9e274-87d7-431c-8d96-3eeb5c8c3381",
   "metadata": {},
   "source": [
    "### Algorithm:-\n",
    "#### Step 1: Start\n",
    "#### Step 2: Input three numbers from the user and store them in variables num1, num2, and num3\n",
    "#### Step 3: Compare the three numbers using conditional statements\n",
    "#### Step 4: If num1 is greater than or equal to both num2 and num3, then\n",
    "#### Print num1 is the largest\n",
    "#### Step 5: Else if num2 is greater than or equal to both num1 and num3, then\n",
    "#### Print num2 is the largest\n",
    "#### Step 6: Else\n",
    "#### Print num3 is the largest\n",
    "#### Step 7: End"
   ]
  },
  {
   "cell_type": "code",
   "execution_count": 5,
   "id": "f5e9a2b3-ac79-4733-b827-4e36d46aa72d",
   "metadata": {},
   "outputs": [
    {
     "name": "stdin",
     "output_type": "stream",
     "text": [
      "Enter first number:  23\n",
      "Enter second number:  24\n",
      "Enter third number:  35\n"
     ]
    },
    {
     "name": "stdout",
     "output_type": "stream",
     "text": [
      "The largest number is: 35.0\n"
     ]
    }
   ],
   "source": [
    "# Taking three numbers as input from the user\n",
    "num1 = float(input(\"Enter first number: \"))\n",
    "num2 = float(input(\"Enter second number: \"))\n",
    "num3 = float(input(\"Enter third number: \"))\n",
    "# Finding the largest number using if-elif-else\n",
    "if num1 >= num2 and num1 >= num3:\n",
    "    print(\"The largest number is:\", num1)\n",
    "elif num2 >= num1 and num2 >= num3:\n",
    "    print(\"The largest number is:\", num2)\n",
    "else:\n",
    "    print(\"The largest number is:\", num3)"
   ]
  },
  {
   "cell_type": "markdown",
   "id": "19d8a5e1-3e96-4eb5-8fa0-0728077d6313",
   "metadata": {},
   "source": [
    "# 5. Write a program to check whether a given numberis a perfect number (sum of its divisor equals the number)"
   ]
  },
  {
   "cell_type": "markdown",
   "id": "95b600f1-259e-442d-b306-1ec9171e4dde",
   "metadata": {},
   "source": [
    "### Algorithm:-\n",
    "#### Step 1: Start\n",
    "#### Step 2: Take a number as input from the user and store it in a variable called num\n",
    "#### Step 3: Initialize a variable sum with value 0 to store the sum of divisors\n",
    "#### Step 4: Use a loop from 1 to num - 1\n",
    "#### Step 5: In each iteration, check if i divides num exactly\n",
    "#### Step 6: If yes, add i to the variable sum\n",
    "#### Step 7: After the loop ends, compare sum with the original number num\n",
    "#### Step 8: If sum is equal to num, then print that it is a Perfect Number\n",
    "#### Step 9: Otherwise, print that it is not a Perfect Number\n",
    "#### Step 10: End"
   ]
  },
  {
   "cell_type": "code",
   "execution_count": 7,
   "id": "7c1815a1-64e2-4874-909c-49192ec0af8d",
   "metadata": {},
   "outputs": [
    {
     "name": "stdin",
     "output_type": "stream",
     "text": [
      "Enter a number:  6\n"
     ]
    },
    {
     "name": "stdout",
     "output_type": "stream",
     "text": [
      "6 is a Perfect Number.\n"
     ]
    }
   ],
   "source": [
    "# Input from the user\n",
    "num = int(input(\"Enter a number: \"))\n",
    "# Initialize sum of divisors\n",
    "sum = 0\n",
    "# Loop to find all divisors (excluding the number itself)\n",
    "for i in range(1, num):\n",
    "    if num % i == 0:\n",
    "        sum += i\n",
    "# Check if the number is perfect\n",
    "if sum == num:\n",
    "    print(num, \"is a Perfect Number.\")\n",
    "else:\n",
    "    print(num, \"is not a Perfect Number.\")"
   ]
  },
  {
   "cell_type": "markdown",
   "id": "76da6b9b-cbc9-4127-9ac2-4c1d316099db",
   "metadata": {},
   "source": [
    "# 6. Write a program to count the number of vowels and consonents in a given string"
   ]
  },
  {
   "cell_type": "markdown",
   "id": "2a69e64c-5c11-49f5-8f11-e19d9bdd106b",
   "metadata": {},
   "source": [
    "### Algorithm:-\n",
    "#### Step 1: Take input\n",
    "#### Get a string from the user.\n",
    "#### Step 2: Initialize variables\n",
    "#### Set vowels = \"aeiouAEIOU\".\n",
    "#### Set vowel_count = 0 and consonant_count = 0.\n",
    "#### Step 3: Loop through the string\n",
    "#### For each character i in the string:\n",
    "#### If i is in vowels, increase vowel_count by 1.\n",
    "#### If i is not in vowels, increase consonant_count by 1.\n",
    "#### Step 4: Print the values of vowel_count and consonant_count."
   ]
  },
  {
   "cell_type": "code",
   "execution_count": 2,
   "id": "2e8b6ac3-f543-4d79-ab2e-a967f781d6ed",
   "metadata": {},
   "outputs": [
    {
     "name": "stdin",
     "output_type": "stream",
     "text": [
      "Enter a string:  rezal\n"
     ]
    },
    {
     "name": "stdout",
     "output_type": "stream",
     "text": [
      "Vowels: 2\n",
      "Consonants: 3\n"
     ]
    }
   ],
   "source": [
    "# Input string\n",
    "string = input(\"Enter a string: \")\n",
    "vowels = \"aeiouAEIOU\"\n",
    "vowel_count = 0\n",
    "consonant_count = 0\n",
    "# Loop through each character\n",
    "for i in string:\n",
    "    if i in vowels:\n",
    "        vowel_count += 1\n",
    "    else:\n",
    "        consonant_count += 1\n",
    "# Output the results\n",
    "print(\"Vowels:\", vowel_count)\n",
    "print(\"Consonants:\", consonant_count)"
   ]
  }
 ],
 "metadata": {
  "kernelspec": {
   "display_name": "Python 3 (ipykernel)",
   "language": "python",
   "name": "python3"
  },
  "language_info": {
   "codemirror_mode": {
    "name": "ipython",
    "version": 3
   },
   "file_extension": ".py",
   "mimetype": "text/x-python",
   "name": "python",
   "nbconvert_exporter": "python",
   "pygments_lexer": "ipython3",
   "version": "3.12.7"
  }
 },
 "nbformat": 4,
 "nbformat_minor": 5
}
